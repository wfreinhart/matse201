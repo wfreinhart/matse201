{
 "cells": [
  {
   "cell_type": "code",
   "execution_count": 9,
   "metadata": {},
   "outputs": [
    {
     "name": "stdout",
     "output_type": "stream",
     "text": [
      "Requirement already satisfied: ipyvolume in c:\\users\\wes\\anaconda3\\envs\\matse201\\lib\\site-packages (0.5.2)\n",
      "Requirement already satisfied: requests in c:\\users\\wes\\anaconda3\\envs\\matse201\\lib\\site-packages (from ipyvolume) (2.24.0)\n",
      "Requirement already satisfied: numpy in c:\\users\\wes\\anaconda3\\envs\\matse201\\lib\\site-packages (from ipyvolume) (1.18.5)\n",
      "Requirement already satisfied: pythreejs>=1.0.0 in c:\\users\\wes\\anaconda3\\envs\\matse201\\lib\\site-packages (from ipyvolume) (2.2.0)\n",
      "Requirement already satisfied: traittypes in c:\\users\\wes\\anaconda3\\envs\\matse201\\lib\\site-packages (from ipyvolume) (0.2.1)\n",
      "Requirement already satisfied: ipywebrtc in c:\\users\\wes\\anaconda3\\envs\\matse201\\lib\\site-packages (from ipyvolume) (0.5.0)\n",
      "Requirement already satisfied: ipywidgets>=7.5 in c:\\users\\wes\\anaconda3\\envs\\matse201\\lib\\site-packages (from ipyvolume) (7.5.1)\n",
      "Requirement already satisfied: traitlets in c:\\users\\wes\\anaconda3\\envs\\matse201\\lib\\site-packages (from ipyvolume) (4.3.3)\n",
      "Requirement already satisfied: Pillow in c:\\users\\wes\\anaconda3\\envs\\matse201\\lib\\site-packages (from ipyvolume) (7.2.0)\n",
      "Requirement already satisfied: certifi>=2017.4.17 in c:\\users\\wes\\anaconda3\\envs\\matse201\\lib\\site-packages (from requests->ipyvolume) (2020.6.20)\n",
      "Requirement already satisfied: urllib3!=1.25.0,!=1.25.1,<1.26,>=1.21.1 in c:\\users\\wes\\anaconda3\\envs\\matse201\\lib\\site-packages (from requests->ipyvolume) (1.25.9)\n",
      "Requirement already satisfied: chardet<4,>=3.0.2 in c:\\users\\wes\\anaconda3\\envs\\matse201\\lib\\site-packages (from requests->ipyvolume) (3.0.4)\n",
      "Requirement already satisfied: idna<3,>=2.5 in c:\\users\\wes\\anaconda3\\envs\\matse201\\lib\\site-packages (from requests->ipyvolume) (2.10)\n",
      "Requirement already satisfied: ipydatawidgets>=1.1.1 in c:\\users\\wes\\anaconda3\\envs\\matse201\\lib\\site-packages (from pythreejs>=1.0.0->ipyvolume) (4.0.1)\n",
      "Requirement already satisfied: ipykernel>=4.5.1 in c:\\users\\wes\\anaconda3\\envs\\matse201\\lib\\site-packages (from ipywidgets>=7.5->ipyvolume) (5.3.0)\n",
      "Requirement already satisfied: nbformat>=4.2.0 in c:\\users\\wes\\anaconda3\\envs\\matse201\\lib\\site-packages (from ipywidgets>=7.5->ipyvolume) (5.0.7)\n",
      "Requirement already satisfied: widgetsnbextension~=3.5.0 in c:\\users\\wes\\anaconda3\\envs\\matse201\\lib\\site-packages (from ipywidgets>=7.5->ipyvolume) (3.5.1)\n",
      "Requirement already satisfied: ipython>=4.0.0; python_version >= \"3.3\" in c:\\users\\wes\\anaconda3\\envs\\matse201\\lib\\site-packages (from ipywidgets>=7.5->ipyvolume) (7.16.1)\n",
      "Requirement already satisfied: decorator in c:\\users\\wes\\anaconda3\\envs\\matse201\\lib\\site-packages (from traitlets->ipyvolume) (4.4.2)\n",
      "Requirement already satisfied: ipython-genutils in c:\\users\\wes\\anaconda3\\envs\\matse201\\lib\\site-packages (from traitlets->ipyvolume) (0.2.0)\n",
      "Requirement already satisfied: six in c:\\users\\wes\\anaconda3\\envs\\matse201\\lib\\site-packages (from traitlets->ipyvolume) (1.15.0)\n",
      "Requirement already satisfied: jupyter-client in c:\\users\\wes\\anaconda3\\envs\\matse201\\lib\\site-packages (from ipykernel>=4.5.1->ipywidgets>=7.5->ipyvolume) (6.1.3)\n",
      "Requirement already satisfied: tornado>=4.2 in c:\\users\\wes\\anaconda3\\envs\\matse201\\lib\\site-packages (from ipykernel>=4.5.1->ipywidgets>=7.5->ipyvolume) (6.0.4)\n",
      "Requirement already satisfied: jsonschema!=2.5.0,>=2.4 in c:\\users\\wes\\anaconda3\\envs\\matse201\\lib\\site-packages (from nbformat>=4.2.0->ipywidgets>=7.5->ipyvolume) (3.2.0)\n",
      "Requirement already satisfied: jupyter-core in c:\\users\\wes\\anaconda3\\envs\\matse201\\lib\\site-packages (from nbformat>=4.2.0->ipywidgets>=7.5->ipyvolume) (4.6.3)\n",
      "Requirement already satisfied: notebook>=4.4.1 in c:\\users\\wes\\anaconda3\\envs\\matse201\\lib\\site-packages (from widgetsnbextension~=3.5.0->ipywidgets>=7.5->ipyvolume) (6.0.3)\n",
      "Requirement already satisfied: setuptools>=18.5 in c:\\users\\wes\\anaconda3\\envs\\matse201\\lib\\site-packages (from ipython>=4.0.0; python_version >= \"3.3\"->ipywidgets>=7.5->ipyvolume) (47.3.1.post20200622)\n",
      "Requirement already satisfied: pickleshare in c:\\users\\wes\\anaconda3\\envs\\matse201\\lib\\site-packages (from ipython>=4.0.0; python_version >= \"3.3\"->ipywidgets>=7.5->ipyvolume) (0.7.5)\n",
      "Requirement already satisfied: jedi>=0.10 in c:\\users\\wes\\anaconda3\\envs\\matse201\\lib\\site-packages (from ipython>=4.0.0; python_version >= \"3.3\"->ipywidgets>=7.5->ipyvolume) (0.17.1)\n",
      "Requirement already satisfied: backcall in c:\\users\\wes\\anaconda3\\envs\\matse201\\lib\\site-packages (from ipython>=4.0.0; python_version >= \"3.3\"->ipywidgets>=7.5->ipyvolume) (0.2.0)\n",
      "Requirement already satisfied: pygments in c:\\users\\wes\\anaconda3\\envs\\matse201\\lib\\site-packages (from ipython>=4.0.0; python_version >= \"3.3\"->ipywidgets>=7.5->ipyvolume) (2.6.1)\n",
      "Requirement already satisfied: prompt-toolkit!=3.0.0,!=3.0.1,<3.1.0,>=2.0.0 in c:\\users\\wes\\anaconda3\\envs\\matse201\\lib\\site-packages (from ipython>=4.0.0; python_version >= \"3.3\"->ipywidgets>=7.5->ipyvolume) (3.0.5)\n",
      "Requirement already satisfied: colorama; sys_platform == \"win32\" in c:\\users\\wes\\anaconda3\\envs\\matse201\\lib\\site-packages (from ipython>=4.0.0; python_version >= \"3.3\"->ipywidgets>=7.5->ipyvolume) (0.4.3)\n",
      "Requirement already satisfied: python-dateutil>=2.1 in c:\\users\\wes\\anaconda3\\envs\\matse201\\lib\\site-packages (from jupyter-client->ipykernel>=4.5.1->ipywidgets>=7.5->ipyvolume) (2.8.1)\n",
      "Requirement already satisfied: pyzmq>=13 in c:\\users\\wes\\anaconda3\\envs\\matse201\\lib\\site-packages (from jupyter-client->ipykernel>=4.5.1->ipywidgets>=7.5->ipyvolume) (19.0.1)\n",
      "Requirement already satisfied: attrs>=17.4.0 in c:\\users\\wes\\anaconda3\\envs\\matse201\\lib\\site-packages (from jsonschema!=2.5.0,>=2.4->nbformat>=4.2.0->ipywidgets>=7.5->ipyvolume) (19.3.0)\n",
      "Requirement already satisfied: pyrsistent>=0.14.0 in c:\\users\\wes\\anaconda3\\envs\\matse201\\lib\\site-packages (from jsonschema!=2.5.0,>=2.4->nbformat>=4.2.0->ipywidgets>=7.5->ipyvolume) (0.16.0)\n",
      "Requirement already satisfied: importlib-metadata; python_version < \"3.8\" in c:\\users\\wes\\anaconda3\\envs\\matse201\\lib\\site-packages (from jsonschema!=2.5.0,>=2.4->nbformat>=4.2.0->ipywidgets>=7.5->ipyvolume) (1.7.0)\n",
      "Requirement already satisfied: pywin32>=1.0; sys_platform == \"win32\" in c:\\users\\wes\\anaconda3\\envs\\matse201\\lib\\site-packages (from jupyter-core->nbformat>=4.2.0->ipywidgets>=7.5->ipyvolume) (227)\n",
      "Requirement already satisfied: prometheus-client in c:\\users\\wes\\anaconda3\\envs\\matse201\\lib\\site-packages (from notebook>=4.4.1->widgetsnbextension~=3.5.0->ipywidgets>=7.5->ipyvolume) (0.8.0)\n",
      "Requirement already satisfied: nbconvert in c:\\users\\wes\\anaconda3\\envs\\matse201\\lib\\site-packages (from notebook>=4.4.1->widgetsnbextension~=3.5.0->ipywidgets>=7.5->ipyvolume) (5.6.1)\n",
      "Requirement already satisfied: terminado>=0.8.1 in c:\\users\\wes\\anaconda3\\envs\\matse201\\lib\\site-packages (from notebook>=4.4.1->widgetsnbextension~=3.5.0->ipywidgets>=7.5->ipyvolume) (0.8.3)\n",
      "Requirement already satisfied: jinja2 in c:\\users\\wes\\anaconda3\\envs\\matse201\\lib\\site-packages (from notebook>=4.4.1->widgetsnbextension~=3.5.0->ipywidgets>=7.5->ipyvolume) (2.11.2)\n",
      "Requirement already satisfied: Send2Trash in c:\\users\\wes\\anaconda3\\envs\\matse201\\lib\\site-packages (from notebook>=4.4.1->widgetsnbextension~=3.5.0->ipywidgets>=7.5->ipyvolume) (1.5.0)\n",
      "Requirement already satisfied: parso<0.8.0,>=0.7.0 in c:\\users\\wes\\anaconda3\\envs\\matse201\\lib\\site-packages (from jedi>=0.10->ipython>=4.0.0; python_version >= \"3.3\"->ipywidgets>=7.5->ipyvolume) (0.7.0)\n",
      "Requirement already satisfied: wcwidth in c:\\users\\wes\\anaconda3\\envs\\matse201\\lib\\site-packages (from prompt-toolkit!=3.0.0,!=3.0.1,<3.1.0,>=2.0.0->ipython>=4.0.0; python_version >= \"3.3\"->ipywidgets>=7.5->ipyvolume) (0.2.5)\n",
      "Requirement already satisfied: zipp>=0.5 in c:\\users\\wes\\anaconda3\\envs\\matse201\\lib\\site-packages (from importlib-metadata; python_version < \"3.8\"->jsonschema!=2.5.0,>=2.4->nbformat>=4.2.0->ipywidgets>=7.5->ipyvolume) (3.1.0)\n",
      "Requirement already satisfied: bleach in c:\\users\\wes\\anaconda3\\envs\\matse201\\lib\\site-packages (from nbconvert->notebook>=4.4.1->widgetsnbextension~=3.5.0->ipywidgets>=7.5->ipyvolume) (3.1.5)\n",
      "Requirement already satisfied: pandocfilters>=1.4.1 in c:\\users\\wes\\anaconda3\\envs\\matse201\\lib\\site-packages (from nbconvert->notebook>=4.4.1->widgetsnbextension~=3.5.0->ipywidgets>=7.5->ipyvolume) (1.4.2)\n",
      "Requirement already satisfied: entrypoints>=0.2.2 in c:\\users\\wes\\anaconda3\\envs\\matse201\\lib\\site-packages (from nbconvert->notebook>=4.4.1->widgetsnbextension~=3.5.0->ipywidgets>=7.5->ipyvolume) (0.3)\n",
      "Requirement already satisfied: defusedxml in c:\\users\\wes\\anaconda3\\envs\\matse201\\lib\\site-packages (from nbconvert->notebook>=4.4.1->widgetsnbextension~=3.5.0->ipywidgets>=7.5->ipyvolume) (0.6.0)\n",
      "Requirement already satisfied: testpath in c:\\users\\wes\\anaconda3\\envs\\matse201\\lib\\site-packages (from nbconvert->notebook>=4.4.1->widgetsnbextension~=3.5.0->ipywidgets>=7.5->ipyvolume) (0.4.4)\n",
      "Requirement already satisfied: mistune<2,>=0.8.1 in c:\\users\\wes\\anaconda3\\envs\\matse201\\lib\\site-packages (from nbconvert->notebook>=4.4.1->widgetsnbextension~=3.5.0->ipywidgets>=7.5->ipyvolume) (0.8.4)\n",
      "Requirement already satisfied: MarkupSafe>=0.23 in c:\\users\\wes\\anaconda3\\envs\\matse201\\lib\\site-packages (from jinja2->notebook>=4.4.1->widgetsnbextension~=3.5.0->ipywidgets>=7.5->ipyvolume) (1.1.1)\n",
      "Requirement already satisfied: webencodings in c:\\users\\wes\\anaconda3\\envs\\matse201\\lib\\site-packages (from bleach->nbconvert->notebook>=4.4.1->widgetsnbextension~=3.5.0->ipywidgets>=7.5->ipyvolume) (0.5.1)\n",
      "Requirement already satisfied: packaging in c:\\users\\wes\\anaconda3\\envs\\matse201\\lib\\site-packages (from bleach->nbconvert->notebook>=4.4.1->widgetsnbextension~=3.5.0->ipywidgets>=7.5->ipyvolume) (20.4)\n",
      "Requirement already satisfied: pyparsing>=2.0.2 in c:\\users\\wes\\anaconda3\\envs\\matse201\\lib\\site-packages (from packaging->bleach->nbconvert->notebook>=4.4.1->widgetsnbextension~=3.5.0->ipywidgets>=7.5->ipyvolume) (2.4.7)\n"
     ]
    }
   ],
   "source": [
    "!pip install ipyvolume\n",
    "import ipyvolume as ipv\n",
    "import numpy as np"
   ]
  },
  {
   "cell_type": "code",
   "execution_count": 10,
   "metadata": {},
   "outputs": [
    {
     "data": {
      "application/vnd.jupyter.widget-view+json": {
       "model_id": "a4d2d1c17b87419e8a5c1c82ac864f62",
       "version_major": 2,
       "version_minor": 0
      },
      "text/plain": [
       "VBox(children=(Figure(camera=PerspectiveCamera(fov=46.0, position=(0.0, 0.0, 2.0), quaternion=(0.0, 0.0, 0.0, …"
      ]
     },
     "metadata": {},
     "output_type": "display_data"
    }
   ],
   "source": [
    "x, y, z = np.random.random((3, 10000))\n",
    "\n",
    "a = np.linspace(0, 1, 101)\n",
    "U, V = np.meshgrid(a, a)\n",
    "X = U\n",
    "Y = V\n",
    "Z = X*Y**2\n",
    "\n",
    "ipv.figure()\n",
    "ipv.scatter(x, y, z, size=1, marker=\"sphere\")\n",
    "ipv.plot_surface(X, Z, Y, color=\"orange\")\n",
    "ipv.show()"
   ]
  },
  {
   "cell_type": "code",
   "execution_count": null,
   "metadata": {},
   "outputs": [],
   "source": []
  }
 ],
 "metadata": {
  "kernelspec": {
   "display_name": "Python 3",
   "language": "python",
   "name": "python3"
  },
  "language_info": {
   "codemirror_mode": {
    "name": "ipython",
    "version": 3
   },
   "file_extension": ".py",
   "mimetype": "text/x-python",
   "name": "python",
   "nbconvert_exporter": "python",
   "pygments_lexer": "ipython3",
   "version": "3.7.7"
  }
 },
 "nbformat": 4,
 "nbformat_minor": 4
}
